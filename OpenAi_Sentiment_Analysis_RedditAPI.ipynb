{
 "cells": [
  {
   "cell_type": "code",
   "execution_count": 1,
   "id": "ff072d5a",
   "metadata": {},
   "outputs": [],
   "source": [
    "import os\n",
    "import openai"
   ]
  },
  {
   "cell_type": "code",
   "execution_count": 2,
   "id": "744c9341",
   "metadata": {},
   "outputs": [
    {
     "name": "stdout",
     "output_type": "stream",
     "text": [
      "Requirement already satisfied: openai in ./opt/anaconda3/lib/python3.8/site-packages (0.27.2)\n",
      "Requirement already satisfied: tqdm in ./opt/anaconda3/lib/python3.8/site-packages (from openai) (4.59.0)\n",
      "Requirement already satisfied: requests>=2.20 in ./opt/anaconda3/lib/python3.8/site-packages (from openai) (2.25.1)\n",
      "Requirement already satisfied: aiohttp in ./opt/anaconda3/lib/python3.8/site-packages (from openai) (3.8.4)\n",
      "Requirement already satisfied: idna<3,>=2.5 in ./opt/anaconda3/lib/python3.8/site-packages (from requests>=2.20->openai) (2.10)\n",
      "Requirement already satisfied: chardet<5,>=3.0.2 in ./opt/anaconda3/lib/python3.8/site-packages (from requests>=2.20->openai) (4.0.0)\n",
      "Requirement already satisfied: urllib3<1.27,>=1.21.1 in ./opt/anaconda3/lib/python3.8/site-packages (from requests>=2.20->openai) (1.26.4)\n",
      "Requirement already satisfied: certifi>=2017.4.17 in ./opt/anaconda3/lib/python3.8/site-packages (from requests>=2.20->openai) (2020.12.5)\n",
      "Requirement already satisfied: multidict<7.0,>=4.5 in ./opt/anaconda3/lib/python3.8/site-packages (from aiohttp->openai) (6.0.4)\n",
      "Requirement already satisfied: attrs>=17.3.0 in ./opt/anaconda3/lib/python3.8/site-packages (from aiohttp->openai) (20.3.0)\n",
      "Requirement already satisfied: frozenlist>=1.1.1 in ./opt/anaconda3/lib/python3.8/site-packages (from aiohttp->openai) (1.3.3)\n",
      "Requirement already satisfied: yarl<2.0,>=1.0 in ./opt/anaconda3/lib/python3.8/site-packages (from aiohttp->openai) (1.8.2)\n",
      "Requirement already satisfied: charset-normalizer<4.0,>=2.0 in ./opt/anaconda3/lib/python3.8/site-packages (from aiohttp->openai) (3.1.0)\n",
      "Requirement already satisfied: async-timeout<5.0,>=4.0.0a3 in ./opt/anaconda3/lib/python3.8/site-packages (from aiohttp->openai) (4.0.2)\n",
      "Requirement already satisfied: aiosignal>=1.1.2 in ./opt/anaconda3/lib/python3.8/site-packages (from aiohttp->openai) (1.3.1)\n"
     ]
    }
   ],
   "source": [
    "!pip install openai"
   ]
  },
  {
   "cell_type": "code",
   "execution_count": 3,
   "id": "1a06160d",
   "metadata": {},
   "outputs": [
    {
     "name": "stdout",
     "output_type": "stream",
     "text": [
      "Requirement already satisfied: praw in ./opt/anaconda3/lib/python3.8/site-packages (7.7.0)\n",
      "Requirement already satisfied: websocket-client>=0.54.0 in ./opt/anaconda3/lib/python3.8/site-packages (from praw) (1.5.1)\n",
      "Requirement already satisfied: prawcore<3,>=2.1 in ./opt/anaconda3/lib/python3.8/site-packages (from praw) (2.3.0)\n",
      "Requirement already satisfied: update-checker>=0.18 in ./opt/anaconda3/lib/python3.8/site-packages (from praw) (0.18.0)\n",
      "Requirement already satisfied: requests<3.0,>=2.6.0 in ./opt/anaconda3/lib/python3.8/site-packages (from prawcore<3,>=2.1->praw) (2.25.1)\n",
      "Requirement already satisfied: chardet<5,>=3.0.2 in ./opt/anaconda3/lib/python3.8/site-packages (from requests<3.0,>=2.6.0->prawcore<3,>=2.1->praw) (4.0.0)\n",
      "Requirement already satisfied: urllib3<1.27,>=1.21.1 in ./opt/anaconda3/lib/python3.8/site-packages (from requests<3.0,>=2.6.0->prawcore<3,>=2.1->praw) (1.26.4)\n",
      "Requirement already satisfied: idna<3,>=2.5 in ./opt/anaconda3/lib/python3.8/site-packages (from requests<3.0,>=2.6.0->prawcore<3,>=2.1->praw) (2.10)\n",
      "Requirement already satisfied: certifi>=2017.4.17 in ./opt/anaconda3/lib/python3.8/site-packages (from requests<3.0,>=2.6.0->prawcore<3,>=2.1->praw) (2020.12.5)\n"
     ]
    }
   ],
   "source": [
    "!pip install praw"
   ]
  },
  {
   "cell_type": "code",
   "execution_count": 4,
   "id": "9585d83f",
   "metadata": {},
   "outputs": [],
   "source": [
    "import praw"
   ]
  },
  {
   "cell_type": "code",
   "execution_count": 5,
   "id": "599f320a",
   "metadata": {},
   "outputs": [
    {
     "data": {
      "text/plain": [
       "{'TERM_PROGRAM': 'Apple_Terminal',\n",
       " 'TERM': 'xterm-color',\n",
       " 'SHELL': '/bin/zsh',\n",
       " 'TMPDIR': '/var/folders/7d/zmvddj4x3_g38kcblzy5bqkw0000gn/T/',\n",
       " 'CONDA_SHLVL': '1',\n",
       " 'TERM_PROGRAM_VERSION': '447',\n",
       " 'CONDA_PROMPT_MODIFIER': '(base) ',\n",
       " 'TERM_SESSION_ID': '1DFA3523-2A5C-4705-80E2-44F553524DCB',\n",
       " 'USER': 'thomasthephasdin',\n",
       " 'CONDA_EXE': '/Users/thomasthephasdin/opt/anaconda3/bin/conda',\n",
       " 'SSH_AUTH_SOCK': '/private/tmp/com.apple.launchd.QtZwSvivfO/Listeners',\n",
       " '_CE_CONDA': '',\n",
       " 'PATH': '/opt/local/bin:/opt/local/sbin:/Users/thomasthephasdin/opt/anaconda3/bin:/Users/thomasthephasdin/opt/anaconda3/condabin:/Library/Frameworks/Python.framework/Versions/3.10/bin:/Library/Frameworks/Python.framework/Versions/3.10/bin:/usr/local/bin:/System/Cryptexes/App/usr/bin:/usr/bin:/bin:/usr/sbin:/sbin:/Library/Apple/usr/bin',\n",
       " 'LaunchInstanceID': '7FC143E8-EC7E-4675-8132-945B5B919408',\n",
       " '__CFBundleIdentifier': 'com.apple.Terminal',\n",
       " 'CONDA_PREFIX': '/Users/thomasthephasdin/opt/anaconda3',\n",
       " 'PWD': '/Users/thomasthephasdin',\n",
       " 'LANG': 'en_US.UTF-8',\n",
       " 'XPC_FLAGS': '0x0',\n",
       " 'XPC_SERVICE_NAME': '0',\n",
       " '_CE_M': '',\n",
       " 'HOME': '/Users/thomasthephasdin',\n",
       " 'SHLVL': '2',\n",
       " 'LOGNAME': 'thomasthephasdin',\n",
       " 'CONDA_PYTHON_EXE': '/Users/thomasthephasdin/opt/anaconda3/bin/python',\n",
       " 'CONDA_DEFAULT_ENV': 'base',\n",
       " 'SECURITYSESSIONID': '186a4',\n",
       " '_': '/Users/thomasthephasdin/opt/anaconda3/bin/jupyter-notebook',\n",
       " 'JPY_PARENT_PID': '3297',\n",
       " 'CLICOLOR': '1',\n",
       " 'PAGER': 'cat',\n",
       " 'GIT_PAGER': 'cat',\n",
       " 'MPLBACKEND': 'module://ipykernel.pylab.backend_inline'}"
      ]
     },
     "execution_count": 5,
     "metadata": {},
     "output_type": "execute_result"
    }
   ],
   "source": [
    "%env"
   ]
  },
  {
   "cell_type": "code",
   "execution_count": 8,
   "id": "a17e3d80",
   "metadata": {},
   "outputs": [],
   "source": [
    "import os"
   ]
  },
  {
   "cell_type": "code",
   "execution_count": 33,
   "id": "34df8778",
   "metadata": {},
   "outputs": [],
   "source": [
    "\n",
    "\n"
   ]
  },
  {
   "cell_type": "code",
   "execution_count": 35,
   "id": "8072cd59",
   "metadata": {},
   "outputs": [],
   "source": [
    "openai.api_key = os.getenv('OPENAI_API_KEY') "
   ]
  },
  {
   "cell_type": "code",
   "execution_count": 37,
   "id": "2980ef63",
   "metadata": {},
   "outputs": [
    {
     "data": {
      "text/plain": [
       "{'TERM_PROGRAM': 'Apple_Terminal',\n",
       " 'TERM': 'xterm-color',\n",
       " 'SHELL': '/bin/zsh',\n",
       " 'TMPDIR': '/var/folders/7d/zmvddj4x3_g38kcblzy5bqkw0000gn/T/',\n",
       " 'CONDA_SHLVL': '1',\n",
       " 'TERM_PROGRAM_VERSION': '447',\n",
       " 'CONDA_PROMPT_MODIFIER': '(base) ',\n",
       " 'TERM_SESSION_ID': '1DFA3523-2A5C-4705-80E2-44F553524DCB',\n",
       " 'USER': 'thomasthephasdin',\n",
       " 'CONDA_EXE': '/Users/thomasthephasdin/opt/anaconda3/bin/conda',\n",
       " 'SSH_AUTH_SOCK': '/private/tmp/com.apple.launchd.QtZwSvivfO/Listeners',\n",
       " '_CE_CONDA': '',\n",
       " 'PATH': '/opt/local/bin:/opt/local/sbin:/Users/thomasthephasdin/opt/anaconda3/bin:/Users/thomasthephasdin/opt/anaconda3/condabin:/Library/Frameworks/Python.framework/Versions/3.10/bin:/Library/Frameworks/Python.framework/Versions/3.10/bin:/usr/local/bin:/System/Cryptexes/App/usr/bin:/usr/bin:/bin:/usr/sbin:/sbin:/Library/Apple/usr/bin',\n",
       " 'LaunchInstanceID': '7FC143E8-EC7E-4675-8132-945B5B919408',\n",
       " '__CFBundleIdentifier': 'com.apple.Terminal',\n",
       " 'CONDA_PREFIX': '/Users/thomasthephasdin/opt/anaconda3',\n",
       " 'PWD': '/Users/thomasthephasdin',\n",
       " 'LANG': 'en_US.UTF-8',\n",
       " 'XPC_FLAGS': '0x0',\n",
       " 'XPC_SERVICE_NAME': '0',\n",
       " '_CE_M': '',\n",
       " 'HOME': '/Users/thomasthephasdin',\n",
       " 'SHLVL': '2',\n",
       " 'LOGNAME': 'thomasthephasdin',\n",
       " 'CONDA_PYTHON_EXE': '/Users/thomasthephasdin/opt/anaconda3/bin/python',\n",
       " 'CONDA_DEFAULT_ENV': 'base',\n",
       " 'SECURITYSESSIONID': '186a4',\n",
       " '_': '/Users/thomasthephasdin/opt/anaconda3/bin/jupyter-notebook',\n",
       " 'JPY_PARENT_PID': '3297',\n",
       " 'CLICOLOR': '1',\n",
       " 'PAGER': 'cat',\n",
       " 'GIT_PAGER': 'cat',\n",
       " 'MPLBACKEND': 'module://ipykernel.pylab.backend_inline',\n",
       " 'client_id': 'dGbih80CHgz-v8F0COLbyA',\n",
       " 'client_secret': '<hidden>',\n",
       " 'OPENAI_API_KEY': '<hidden>'}"
      ]
     },
     "execution_count": 37,
     "metadata": {},
     "output_type": "execute_result"
    }
   ],
   "source": [
    "%env"
   ]
  },
  {
   "cell_type": "code",
   "execution_count": 12,
   "id": "90285df9",
   "metadata": {},
   "outputs": [],
   "source": [
    "reddit = praw.Reddit(client_id=os.getenv('client_id'),\n",
    "                    client_secret=os.getenv('client_secret'),\n",
    "                    user_agent = \"sentiment analysis test\")"
   ]
  },
  {
   "cell_type": "code",
   "execution_count": 16,
   "id": "9c5aa77d",
   "metadata": {},
   "outputs": [],
   "source": [
    "subreddit_stocks = reddit.subreddit('stocks')"
   ]
  },
  {
   "cell_type": "code",
   "execution_count": 19,
   "id": "eee384d8",
   "metadata": {},
   "outputs": [
    {
     "data": {
      "text/plain": [
       "5775"
      ]
     },
     "execution_count": 19,
     "metadata": {},
     "output_type": "execute_result"
    }
   ],
   "source": [
    "subreddit_stocks.accounts_active"
   ]
  },
  {
   "cell_type": "code",
   "execution_count": 24,
   "id": "a1a4715a",
   "metadata": {},
   "outputs": [
    {
     "name": "stdout",
     "output_type": "stream",
     "text": [
      "Rate My Portfolio - r/Stocks Quarterly Thread March 2023\n",
      "I am 26, so I have several decades until retirement. My goal is to hold the stocks in my portfolio perpetually, though I'm not reserved to make adjustments and sell when a) I see an opportunity to take profits b) my thesis changes. My long term goal is passive income generation, though I don't chase yields. I don't pay much attention to valuation or macro, as I think that since I plan on holding these stocks for decades while buying every month, those don't matter to me much. I invest regularly every month, so I'm okay with buying at a higher valuation at times and lower valuation at other times. In my opinion, buying at the best possible time is more difficult than buying a good company. That said, if I see an undervalued stock I like, I don't hesitate to buy more and when I make my regular contributions, I try weigh towards stocks that might have been beaten down or seem undervalued. My last review in one of these was [Dec 2021](https://www.reddit.com/r/stocks/comments/r6bdjt/rate_my_portfolio_rstocks_quarterly_thread/hn1ot2t/). Since then, I have made some adjustments, mostly by researching new companies and updating what I focus on when doing my analysis. I am pretty comfortable with my current portfolio and can see myself holding any of these companies for decades (that surely won't be the case, but I'm okay with that; not all of these will be good investments, but most of them should, I think).\n",
      "\n",
      "My goal is not doing 50% in a year or buying low and selling high. My goal is to outperform the index modestly, at maybe 2-3% annually, which would compound very nicely over decades. I'm okay with the risk that I underperform at a modest rate. I want to avoid making drastic changes to my portfolio depending on macro environment.\n",
      "\n",
      "I like stocks that are quality companies with:\n",
      "\n",
      "-\tA sustainable business model - high cash flow generation, high ROIC / ROCE, good balance sheet. Bonus points for recurring, diversified revenue, and optionality.\n",
      "-\tBusiness model and products I understand, or at least understand their value. I don't think I'll ever understand ASML's machines, but I understand why it's one of a kind company.\n",
      "-\tA wide moat. Bonus points are for brand value, network effect, IP, barriers to entry / high switching costs, supply chain, etc. I am okay with paying a high multiple for a company that cannot be replicated by throwing money at the problem. Almost every company I own scores very high in this regard in my own checklist.\n",
      "-\tHigh margins. I focus mostly on gross margin, but consider other margin metrics, too.\n",
      "-\tSustainable buybacks and dividend growth.\n",
      "-\tGreat management.\n",
      "\n",
      "Not every company I own scores high in each of these, but together they fit my investment goals very well.\n",
      "\n",
      "I used to have an allocation for growth in my portfolio, but overtime, I have decided to fully target quality companies and compounders with a great track record. I realized that it is never too late to buy into a company once it becomes profitable and sustainable. And if I miss a few 10-baggers because of restraint from unprofitable companies, I'll be okay with that.\n",
      "\n",
      "My current allocation is 96% equity, with the rest being a single commodity holding - a carbon allowance ETF (CARB on BIT)\n",
      "\n",
      "Of the 96% equity, 1/3 (32%) is in diversified ETFs:\n",
      "\n",
      "| **Name**                 | **Target allocation** |\n",
      "|--------------------------|----------------------:|\n",
      "| **MSCI World**           | 24,0%                 |\n",
      "| **MSCI World Small Cap** | 4,0%                  |\n",
      "| **MSCI EM IMI**          | 4,0%                  |\n",
      "\n",
      "The other 2/3s are stocks, structured as following, ordered by my target weight (descending):\n",
      "\n",
      "| **Name**                        | **Ticker** | **Target allocation** |\n",
      "|---------------------------------|:----------:|----------------------:|\n",
      "| **Microsoft**                   | MSFT       | 6,00%                 |\n",
      "| **Apple**                       | AAPL       | 5,50%                 |\n",
      "| **ASML Holding**                | ASML       | 5,50%                 |\n",
      "| **Brookfield Corporation**      | BN         | 4,00%                 |\n",
      "| **Costco**                      | COST       | 4,00%                 |\n",
      "| **MasterCard**                  | MA         | 4,00%                 |\n",
      "| **Novo Nordisk**                | NVO        | 4,00%                 |\n",
      "| **Ulta Beauty**                 | ULTA       | 4,00%                 |\n",
      "| **Visa**                        | V          | 4,00%                 |\n",
      "| **Alphabet**                    | GOOG       | 4,00%                 |\n",
      "| **Johnson and Johnson**         | JNJ        | 3,00%                 |\n",
      "| **Home Depot**                  | HD         | 3,00%                 |\n",
      "| **Lockheed Martin**             | LMT        | 3,00%                 |\n",
      "| **Union Pacific**               | UNP        | 3,00%                 |\n",
      "| **Intuitive Surgical**          | ISRG       | 2,50%                 |\n",
      "| **Adobe**                       | ADBE       | 2,50%                 |\n",
      "| **Brookfield Asset Management** | BAM        | 2,00%                 |\n",
      "\n",
      "Edit: I also have two retirement accounts that are both 100% MSCI World.\n",
      "24 Years old.\n",
      "\n",
      "GOOGL 17% , META 17%, V 15%, MSFT 13%, AAPL 13%, MO 11%, Treasury ETF 4%, C 3%, XLRE 3%, AMZN 2%, GM 1%.\n",
      "\n",
      "This is my taxable portfolio, my ROTH is all in SP500 / Growth mutual funds.\n",
      "\n",
      "My current goals are to build my positions in AMZN and Short-Term US Treasuries to 10% Each. Also, I want to build a position into XLF.\n",
      "/r/Stocks Weekend Discussion Saturday - Mar 18, 2023\n",
      "Imagine how bad things must truly be for all this crazy stuff to happen in the span of only 11 days. \n",
      "\n",
      "Fucking wild\n",
      "Do you think oil price will keep falling? It seems like  the market view is a bit split here. Tech stocks is rising as if the market is about to bloom again. Whereas bank and oil stocks are falling af like the recession is coming soon\n",
      "RIP Shareholders - UBS offers to buy Credit Suisse for up to $1bn.\n",
      "Credit Suisse shareholders are on suicide watch\n",
      "What will happen if there’s no deal and CS goes bankrupt?\n",
      "UBS agrees to buy Credit Suisse for more than $2bn\n",
      "UBS: $1b\n",
      "\n",
      "CS: No tuh low! $2b?\n",
      "\n",
      "UBS: ok 🤝\n",
      "\n",
      "2hours later…\n",
      "\n",
      "UBS: You know what buddy? We give you $3b and some change.\n",
      "\n",
      "CS: Whoa many thanks! 🥰\n",
      "The movies that come out of these are gonna be a hit\n",
      "Central banks announce new liquidity measures to ease banking crisis [News]\n",
      "This feels like when the side character in a movie gets shot in the gut and the other characters hold his guts in with blood pouring out telling him \"ITS GONNA BE ALRIGHT, YOU'RE FINE!\"\n",
      "Bullish for market open…?\n"
     ]
    }
   ],
   "source": [
    "for post in subreddit_stocks.hot(limit=5):\n",
    "    print(post.title)\n",
    "    submission = reddit.submission(post.id)\n",
    "    \n",
    "    counter = 0\n",
    "    for comment in submission.comments:\n",
    "        print(comment.body)\n",
    "        counter+=1\n",
    "        if counter == 2:\n",
    "            break"
   ]
  },
  {
   "cell_type": "code",
   "execution_count": 39,
   "id": "b8e7fa7b",
   "metadata": {},
   "outputs": [],
   "source": [
    "def get_titles_and_comments(subreddit='stocks',limit=6,num_comments=3,skip_first=2):\n",
    "    subreddit = reddit.subreddit(subreddit)\n",
    "    title_and_comments = {}\n",
    "    \n",
    "    for counter,post in enumerate(subreddit.hot(limit=limit)):\n",
    "        \n",
    "        if counter < skip_first:\n",
    "            continue\n",
    "        counter += (1-skip_first)\n",
    "        \n",
    "        title_and_comments[counter] = \"\"\n",
    "        submission = reddit.submission(post.id)\n",
    "        title = post.title\n",
    "        \n",
    "        title_and_comments[counter] +='Title: '+title+\"\\n\\n\"\n",
    "        title_and_comments[counter] += \"Comments: \\n\\n\"\n",
    "        \n",
    "        comment_counter = 0\n",
    "        for comment in submission.comments:\n",
    "            if not comment.body == \"[deleted]\":\n",
    "                title_and_comments[counter] += comment.body+\"\\n\"\n",
    "                comment_counter += 1\n",
    "            if comment_counter == num_comments:\n",
    "                break\n",
    "    return title_and_comments"
   ]
  },
  {
   "cell_type": "code",
   "execution_count": 40,
   "id": "116c3bf5",
   "metadata": {},
   "outputs": [],
   "source": [
    "titles_and_comments = get_titles_and_comments()\n"
   ]
  },
  {
   "cell_type": "code",
   "execution_count": 41,
   "id": "e6cf7276",
   "metadata": {},
   "outputs": [
    {
     "data": {
      "text/plain": [
       "{1: 'Title: Alphanso Stock Research: Why BioLife Solutions, Inc. ($BLFS) Stock Has a Score of 9.7/10\\n\\nComments: \\n\\n',\n",
       " 2: 'Title: BriaCell Therapeutics Corp. (Nasdaq: BCTX, BCTXW) will be sharing \"refreshed survival updates, new patient data, and potential late-breaking discoveries.\"\\n\\nComments: \\n\\n',\n",
       " 3: 'Title: Future Plans of Water On Demand™ $OCLN\\n\\nComments: \\n\\n',\n",
       " 4: 'Title: $META stock\\n\\nComments: \\n\\n'}"
      ]
     },
     "execution_count": 41,
     "metadata": {},
     "output_type": "execute_result"
    }
   ],
   "source": [
    "titles_and_comments"
   ]
  },
  {
   "cell_type": "code",
   "execution_count": 42,
   "id": "4f378acd",
   "metadata": {},
   "outputs": [],
   "source": [
    "def create_prompt(title_and_comments):\n",
    "    task = \"Return the stock ticker or company name mentioned in the following title and comments and classify the sentiment around the company as positive, negative, or neutral. If no ticker or company is mentioned write 'No company mentioned'\\n\\n\"\n",
    "    return task+title_and_comments"
   ]
  },
  {
   "cell_type": "code",
   "execution_count": 43,
   "id": "5081b947",
   "metadata": {},
   "outputs": [
    {
     "name": "stdout",
     "output_type": "stream",
     "text": [
      "Return the stock ticker or company name mentioned in the following title and comments and classify the sentiment around the company as positive, negative, or neutral. If no ticker or company is mentioned write 'No company mentioned'\n",
      "\n",
      "Title: Alphanso Stock Research: Why BioLife Solutions, Inc. ($BLFS) Stock Has a Score of 9.7/10\n",
      "\n",
      "Comments: \n",
      "\n",
      "\n"
     ]
    }
   ],
   "source": [
    "print(create_prompt(titles_and_comments[1]))"
   ]
  },
  {
   "cell_type": "code",
   "execution_count": 44,
   "id": "3c9b11a3",
   "metadata": {},
   "outputs": [
    {
     "name": "stdout",
     "output_type": "stream",
     "text": [
      "Title: Alphanso Stock Research: Why BioLife Solutions, Inc. ($BLFS) Stock Has a Score of 9.7/10\n",
      "\n",
      "Comments: \n",
      "\n",
      "\n",
      "Sentiment Report from OpenAI: \"BioLife Solutions, Inc. ($BLFS) is a great stock to invest in. It has a strong balance sheet and a great outlook for the future.\"\n",
      "\n",
      "Company: BioLife Solutions, Inc. ($BLFS)\n",
      "Sentiment: Positive\n",
      "---------------------\n",
      "Title: BriaCell Therapeutics Corp. (Nasdaq: BCTX, BCTXW) will be sharing \"refreshed survival updates, new patient data, and potential late-breaking discoveries.\"\n",
      "\n",
      "Comments: \n",
      "\n",
      "\n",
      "Sentiment Report from OpenAI: This is great news for BriaCell Therapeutics Corp.\n",
      "\n",
      "Ticker: BCTX, BCTXW\n",
      "Sentiment: Positive\n",
      "---------------------\n",
      "Title: Future Plans of Water On Demand™ $OCLN\n",
      "\n",
      "Comments: \n",
      "\n",
      "\n",
      "Sentiment Report from OpenAI: The company is looking to expand its operations to new markets\n",
      "\n",
      "Ticker: $OCLN\n",
      "Sentiment: Neutral\n",
      "---------------------\n",
      "Title: $META stock\n",
      "\n",
      "Comments: \n",
      "\n",
      "\n",
      "Sentiment Report from OpenAI: META has been on a steady rise since the start of the year\n",
      "\n",
      "META (positive)\n",
      "---------------------\n"
     ]
    }
   ],
   "source": [
    "for key, title_with_coments in  titles_and_comments.items():\n",
    "    \n",
    "    prompt = create_prompt(title_with_coments)\n",
    "    \n",
    "    response = openai.Completion.create(engine='text-davinci-003',\n",
    "                                       prompt=prompt,\n",
    "                                       max_tokens=256,\n",
    "                                       temperature=0,\n",
    "                                       top_p=1.0)\n",
    "    print(title_with_coments)\n",
    "    print(f\"Sentiment Report from OpenAI: {response['choices'][0]['text']}\")\n",
    "    print('---------------------')"
   ]
  },
  {
   "cell_type": "code",
   "execution_count": null,
   "id": "b72a4ddc",
   "metadata": {},
   "outputs": [],
   "source": []
  },
  {
   "cell_type": "code",
   "execution_count": null,
   "id": "9224b063",
   "metadata": {},
   "outputs": [],
   "source": []
  },
  {
   "cell_type": "code",
   "execution_count": null,
   "id": "a89b6a95",
   "metadata": {},
   "outputs": [],
   "source": []
  }
 ],
 "metadata": {
  "kernelspec": {
   "display_name": "Python 3",
   "language": "python",
   "name": "python3"
  },
  "language_info": {
   "codemirror_mode": {
    "name": "ipython",
    "version": 3
   },
   "file_extension": ".py",
   "mimetype": "text/x-python",
   "name": "python",
   "nbconvert_exporter": "python",
   "pygments_lexer": "ipython3",
   "version": "3.8.8"
  }
 },
 "nbformat": 4,
 "nbformat_minor": 5
}
